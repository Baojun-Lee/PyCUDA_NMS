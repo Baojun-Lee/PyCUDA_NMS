{
 "cells": [
  {
   "cell_type": "code",
   "execution_count": 1,
   "metadata": {},
   "outputs": [
    {
     "name": "stdout",
     "output_type": "stream",
     "text": [
      "Statistics on PyCUDA version of NMS running time:\n",
      "count    50.000000\n",
      "mean      0.002375\n",
      "std       0.000168\n",
      "min       0.002307\n",
      "25%       0.002315\n",
      "50%       0.002325\n",
      "75%       0.002371\n",
      "max       0.003174\n",
      "dtype: float64\n",
      "\n",
      "Statistics on tf version of NMS running time:\n",
      "count    50.000000\n",
      "mean      0.011008\n",
      "std       0.001389\n",
      "min       0.008626\n",
      "25%       0.009733\n",
      "50%       0.010893\n",
      "75%       0.012536\n",
      "max       0.013332\n",
      "dtype: float64\n",
      "\n",
      "cuda - tf: set()\n",
      "tf - cuda: {913, 74}\n",
      "cuda version runs 4.635274 times faster as tf version!\n"
     ]
    }
   ],
   "source": [
    "from nms import cuda_nms\n",
    "from nms import template\n",
    "import numpy as np\n",
    "from pycuda.compiler import SourceModule\n",
    "import pycuda.autoinit\n",
    "import pycuda.driver as drv\n",
    "import string\n",
    "import tensorflow as tf\n",
    "import time\n",
    "import pandas as pd\n",
    "\n",
    "THETA=0.7\n",
    "    \n",
    "#y1, x1, y2, x2\n",
    "boxes = np.loadtxt('boxes.txt', dtype=np.float32)\n",
    "scores = np.loadtxt('scores.txt', dtype=np.float32)\n",
    "\n",
    "boxes = boxes[:1000]\n",
    "scores = scores[:1000]\n",
    "\n",
    "template = string.Template(template)\n",
    "template = template.substitute(THETA=THETA)\n",
    "modules = SourceModule(template) \n",
    "# python function will change array's value, so use .copy()\n",
    "\n",
    "cuda_times = []\n",
    "for _ in range(50):\n",
    "    cuda_start = time.time()\n",
    "    cuda_result = cuda_nms(modules, boxes.copy(), scores.copy())\n",
    "    cuda_end = time.time()\n",
    "    cuda_times.append(cuda_end-cuda_start)\n",
    "\n",
    "print('Statistics on PyCUDA version of NMS running time:')\n",
    "cuda_times = pd.Series(cuda_times)\n",
    "print(cuda_times.describe())\n",
    "print()\n",
    "\n",
    "tf_times = []\n",
    "with tf.Session() as sess:\n",
    "     for _ in range(50):\n",
    "        nms = tf.image.non_max_suppression(boxes, scores, max_output_size=boxes.shape[0],iou_threshold=0.7)\n",
    "        tf_start = time.time()\n",
    "        tf_result = sess.run(nms)\n",
    "        tf_end = time.time()\n",
    "        tf_times.append(tf_end-tf_start)\n",
    "\n",
    "print('Statistics on tf version of NMS running time:')\n",
    "tf_times = pd.Series(tf_times)\n",
    "print(tf_times.describe())\n",
    "print()\n",
    "\n",
    "print('cuda - tf:', set(cuda_result)-set(tf_result))\n",
    "print('tf - cuda:', set(tf_result)-set(cuda_result))\n",
    "\n",
    "print('cuda version runs %f times faster as tf version!'%(tf_times.mean(axis=0)/cuda_times.mean(axis=0)))"
   ]
  },
  {
   "cell_type": "code",
   "execution_count": null,
   "metadata": {},
   "outputs": [],
   "source": []
  }
 ],
 "metadata": {
  "kernelspec": {
   "display_name": "Python 3",
   "language": "python",
   "name": "python3"
  },
  "language_info": {
   "codemirror_mode": {
    "name": "ipython",
    "version": 3
   },
   "file_extension": ".py",
   "mimetype": "text/x-python",
   "name": "python",
   "nbconvert_exporter": "python",
   "pygments_lexer": "ipython3",
   "version": "3.5.2"
  }
 },
 "nbformat": 4,
 "nbformat_minor": 2
}
